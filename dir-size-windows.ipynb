{
 "cells": [
  {
   "cell_type": "code",
   "execution_count": 1,
   "metadata": {},
   "outputs": [],
   "source": [
    "import os, json, re, logging, time, datetime, sys\n",
    "from os.path import join, getsize\n",
    "## Windows stuff\n",
    "import win32api\n",
    "import win32con\n",
    "import win32security\n",
    "import win32file"
   ]
  },
  {
   "cell_type": "code",
   "execution_count": 2,
   "metadata": {},
   "outputs": [],
   "source": [
    "## A function to get a file user on windows\n",
    "def getOwner(filename):\n",
    "    try:\n",
    "        open (filename, \"r\").close ()\n",
    "        sd = win32security.GetFileSecurity (filename, win32security.OWNER_SECURITY_INFORMATION)\n",
    "        owner_sid = sd.GetSecurityDescriptorOwner ()\n",
    "        name, domain, type = win32security.LookupAccountSid (None, owner_sid)\n",
    "    except:\n",
    "        name = 'NILACS'\n",
    "    return name"
   ]
  },
  {
   "cell_type": "code",
   "execution_count": 3,
   "metadata": {},
   "outputs": [],
   "source": [
    "## A function to get a file size on Windows\n",
    "def getFileSize(filename):\n",
    "    source = win32file.CreateFile(filename,win32file.GENERIC_READ,win32file.FILE_SHARE_READ,None,win32file.OPEN_EXISTING,0,None)\n",
    "    size = win32file.GetFileSize(source)\n",
    "    source.Close()\n",
    "    return size"
   ]
  },
  {
   "cell_type": "code",
   "execution_count": 4,
   "metadata": {},
   "outputs": [],
   "source": [
    "def getFileTime(filename):\n",
    "    source = win32file.CreateFile(filename,win32file.GENERIC_READ,win32file.FILE_SHARE_READ,None,win32file.OPEN_EXISTING,0,None)\n",
    "    filetime = str(win32file.GetFileTime(source)[0])\n",
    "    source.Close()\n",
    "    return filetime\n",
    "#print(getFileTime('R:\\\\11. HeadsUp\\\\3. Other\\\\fake MBS\\SYNTHETIC_MBS_1516.CSV'))"
   ]
  },
  {
   "cell_type": "code",
   "execution_count": 5,
   "metadata": {},
   "outputs": [],
   "source": [
    "def getFileExtension(filename):\n",
    "    return os.path.splitext(filename)[1]"
   ]
  },
  {
   "cell_type": "code",
   "execution_count": 6,
   "metadata": {},
   "outputs": [],
   "source": [
    "## Setup the logger for debugging\n",
    "logger = logging.getLogger('dir-size')\n",
    "logger.setLevel(logging.DEBUG)\n",
    "## Create file handler which logs even debug messages\n",
    "fh = logging.FileHandler('dir-size.json')\n",
    "fh.setLevel(logging.DEBUG)\n",
    "# create formatter and add it to the handlers\n",
    "formatter = logging.Formatter('{\"time\": \"%(asctime)s\" ,\"name\": \"%(name)s\" ,\"level\": \"%(levelname)s\" ,\"message\": \"%(message)s\"}')\n",
    "fh.setFormatter(formatter)\n",
    "# add the handlers to the logger\n",
    "logger.addHandler(fh)\n",
    "logger.info('Start dir-size log')"
   ]
  },
  {
   "cell_type": "code",
   "execution_count": 7,
   "metadata": {
    "tags": []
   },
   "outputs": [
    {
     "output_type": "stream",
     "name": "stdout",
     "text": "c:\\GitHub\\mortie23\\dir-size\n"
    }
   ],
   "source": [
    "## Directory of python script\n",
    "print(os.getcwd())"
   ]
  },
  {
   "cell_type": "markdown",
   "metadata": {},
   "source": [
    "## Get Directory Sizes Recursive"
   ]
  },
  {
   "cell_type": "code",
   "execution_count": 8,
   "metadata": {},
   "outputs": [],
   "source": [
    "def getDirSize(dirstart,fileInfoFlag,debugFlag):\n",
    "    dirstart_contract = re.sub('[^A-Za-z0-9]+', '', dirstart)\n",
    "    print('getDirSize: ',dirstart_contract)\n",
    "    ## A couple of log lines to get timing of runs\n",
    "    logger.info('START - getDirSize')\n",
    "    logger.info(dirstart_contract)\n",
    "    dir_count = 1\n",
    "    file_count = 0\n",
    "    for root, dirs, files in os.walk(dirstart):\n",
    "        numsep = root.count(os.path.sep)\n",
    "        jsonLine={}\n",
    "        jsonLine[\"dirs\"]=dir_count\n",
    "        jsonLine[\"numsep\"]=numsep\n",
    "        jsonLine[\"directory\"]=root\n",
    "        ## Initialise the file ifo\n",
    "        fileset = []\n",
    "        bytes_size=0\n",
    "        ## Get the file info only when not debug and filename is less than 260\n",
    "        ## 32bit Python windows does not like really long paths\n",
    "        if debugFlag:\n",
    "            pass\n",
    "        else:\n",
    "            if fileInfoFlag:\n",
    "                for name in files:\n",
    "                    file_count += 1\n",
    "                    print('dircnt: {0}, filecnt: {1}, dir: {2}, file: {3}                                                        \\r'\n",
    "                          .format(dir_count, file_count, dirstart_contract, name), end=\"\")\n",
    "                    try:\n",
    "                        path = join(root, name)\n",
    "                        size = getFileSize(path)\n",
    "                        owner = getOwner(path)\n",
    "                        datetime = getFileTime(path)\n",
    "                        ext = getFileExtension(path)\n",
    "                        fileset.append({\"name\":name, \"ext\": ext, \"size\":size, \"owner\": owner, \"datetime\": datetime})\n",
    "                        bytes_size += size\n",
    "                    except:\n",
    "                        len(join(root, name))\n",
    "                        fileset.append({\"name\":name, \"exception\": 1})\n",
    "        jsonLine[\"fileset\"]=fileset\n",
    "        jsonLine[\"bytes\"]=bytes_size\n",
    "        jsonLine[\"files\"]=len(files)\n",
    "        if debugFlag:\n",
    "            pass\n",
    "        else:\n",
    "            ## Create new file\n",
    "            fProc = open(\"./json-data/\" +  dirstart_contract + '.' + str(dir_count) + '.json', \"w\")\n",
    "            fProc.write(json.dumps(jsonLine))\n",
    "            fCsv = open(\"./csvs/\" + dirstart_contract + '.csv', \"a+\")\n",
    "            csvLine = ','.join([str(dir_count),dirstart_contract,\"./json-data/\" + dirstart_contract + '.' + str(dir_count) + '.json'+\"\\n\"])\n",
    "            fCsv.write(csvLine)\n",
    "            fProc.close()\n",
    "            fCsv.close()\n",
    "        dir_count += 1\n",
    "    ## A couple of log lines to get timing of runs\n",
    "    print()\n",
    "    message = 'getDirSize('+dirstart_contract+') END dir_count('+str(dir_count)+') file_count('+str(dir_count)+')'\n",
    "    logger.info(message)"
   ]
  },
  {
   "cell_type": "code",
   "execution_count": 15,
   "metadata": {
    "tags": []
   },
   "outputs": [
    {
     "output_type": "stream",
     "name": "stdout",
     "text": "getDirSize:  CUserschrisDownloadsdirsizetest\ndircnt: 3, filecnt: 3, dir: CUserschrisDownloadsdirsizetest, file: test3.txt                                                        \n"
    }
   ],
   "source": [
    "## Unit test on small directory structure\n",
    "dirstart = \"C:\\\\Users\\\\chris\\\\Downloads\\\\dir-size-test\"\n",
    "getDirSize(dirstart,1,0)"
   ]
  },
  {
   "cell_type": "markdown",
   "metadata": {},
   "source": [
    "# Loop Files\n",
    "A function to loop over all files in a directory and call the getDirSize function"
   ]
  },
  {
   "cell_type": "code",
   "execution_count": 11,
   "metadata": {},
   "outputs": [],
   "source": [
    "def loopFiles(dirname,debugFlag):\n",
    "    directory = os.fsencode(dirname)\n",
    "    for file in os.listdir(directory):\n",
    "        filename = os.fsdecode(file)\n",
    "        if debugFlag:\n",
    "            print('loopFiles: ',filename)\n",
    "            getDirSize(dirname+'/'+filename,1,1)\n",
    "        else:\n",
    "            getDirSize(dirname+'/'+filename,1,0)"
   ]
  },
  {
   "cell_type": "code",
   "execution_count": 13,
   "metadata": {
    "tags": []
   },
   "outputs": [],
   "source": [
    "## Run for whole user directory in debug mode\n",
    "## This will get the number of directories in each high level directory\n",
    "dirname = \"C:\\\\Users\\\\chris\\\\Downloads\"\n",
    "#loopFiles(dirname,1)"
   ]
  },
  {
   "cell_type": "markdown",
   "metadata": {},
   "source": [
    "## Now run\n",
    "This will run a full collection of the section drive"
   ]
  },
  {
   "cell_type": "code",
   "execution_count": 16,
   "metadata": {
    "tags": []
   },
   "outputs": [],
   "source": [
    "## Run for whole team directory\n",
    "dirname = \"C:\\\\Users\\\\chris\\\\Downloads\\\\\"\n",
    "#loopFiles(dirname,0)"
   ]
  },
  {
   "cell_type": "code",
   "execution_count": null,
   "metadata": {},
   "outputs": [],
   "source": []
  }
 ],
 "metadata": {
  "kernelspec": {
   "display_name": "Python 3.8.3 32-bit",
   "language": "python",
   "name": "python_defaultSpec_1593555945642"
  },
  "language_info": {
   "codemirror_mode": {
    "name": "ipython",
    "version": 3
   },
   "file_extension": ".py",
   "mimetype": "text/x-python",
   "name": "python",
   "nbconvert_exporter": "python",
   "pygments_lexer": "ipython3",
   "version": "3.8.3-final"
  }
 },
 "nbformat": 4,
 "nbformat_minor": 4
}