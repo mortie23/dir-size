{
 "cells": [
  {
   "cell_type": "code",
   "execution_count": 1,
   "metadata": {},
   "outputs": [],
   "source": [
    "import os, json, re, logging, time\n",
    "from os.path import join, getsize\n",
    "from pwd import getpwuid"
   ]
  },
  {
   "cell_type": "code",
   "execution_count": 2,
   "metadata": {},
   "outputs": [],
   "source": [
    "## Setup the logger for debugging\n",
    "logger = logging.getLogger('dir-size')\n",
    "logger.setLevel(logging.DEBUG)\n",
    "## Create file handler which logs even debug messages\n",
    "fh = logging.FileHandler('dir-size.log')\n",
    "fh.setLevel(logging.DEBUG)\n",
    "# create formatter and add it to the handlers\n",
    "formatter = logging.Formatter('{\"time\": \"%(asctime)s\" ,\"name\": \"%(name)s\" ,\"level\": \"%(levelname)s\" ,\"message\": \"%(message)s\"}')\n",
    "fh.setFormatter(formatter)\n",
    "# add the handlers to the logger\n",
    "logger.addHandler(fh)\n",
    "logger.info('Start dir-size log')"
   ]
  },
  {
   "cell_type": "code",
   "execution_count": 3,
   "metadata": {
    "tags": []
   },
   "outputs": [
    {
     "output_type": "stream",
     "name": "stdout",
     "text": "/mnt/c/GitHub/mortie23/dir-size\n"
    }
   ],
   "source": [
    "## Directory of python script\n",
    "print(os.getcwd())"
   ]
  },
  {
   "cell_type": "markdown",
   "metadata": {},
   "source": [
    "## Get Directory Sizes Recursive"
   ]
  },
  {
   "cell_type": "code",
   "execution_count": 4,
   "metadata": {},
   "outputs": [],
   "source": [
    "def getDirSize(dirstart,fileInfoFlag,debugFlag):\n",
    "    ## A couple of log lines to get timing of runs\n",
    "    logger.info('START - getDirSize')\n",
    "    logger.info(dirstart)\n",
    "    dirstart_contract = re.sub('[^A-Za-z0-9]+', '', dirstart)\n",
    "    print(dirstart_contract)\n",
    "    i = 1\n",
    "    for root, dirs, files in os.walk(dirstart):\n",
    "        numsep = root.count(os.path.sep)\n",
    "        jsonLine={}\n",
    "        jsonLine[\"i\"]=i\n",
    "        jsonLine[\"numsep\"]=numsep\n",
    "        jsonLine[\"directory\"]=root\n",
    "        fileset = []\n",
    "        ## Get the file info as well\n",
    "        if fileInfoFlag:\n",
    "            for name in files:\n",
    "                uid = os.stat(join(root, name))[5]\n",
    "                st_mtime = os.stat(join(root, name))[9]\n",
    "                fileset.append({\"name\":name, \"size\":getsize(join(root, name)), \"uid\": uid, \"st_mtime\": time.ctime(st_mtime)})\n",
    "        jsonLine[\"fileset\"]=fileset\n",
    "        bytes_size=0\n",
    "        ## Work around 32bit Python windows does not like really long paths\n",
    "        for name in files:\n",
    "            if len(join(root, name)) > 260:\n",
    "                bytes_size += 0\n",
    "            else:\n",
    "                bytes_size += getsize(join(root, name))\n",
    "        # test\n",
    "        jsonLine[\"bytes\"]=bytes_size\n",
    "        jsonLine[\"files\"]=len(files)\n",
    "        if debugFlag:\n",
    "            print(jsonLine)\n",
    "        else:\n",
    "            ## Create new file\n",
    "            fProc = open(\"./json-data/\" +  dirstart_contract + '.' + str(i) + '.json', \"w\")\n",
    "            fProc.write(json.dumps(jsonLine))\n",
    "            fCsv = open(\"./csvs/\" + dirstart_contract + '.csv', \"a+\")\n",
    "            csvLine = ','.join([str(i),dirstart_contract,\"./json-data/\" + dirstart_contract + '.' + str(i) + '.json'+\"\\n\"])\n",
    "            fCsv.write(csvLine)\n",
    "            fProc.close()\n",
    "            fCsv.close()\n",
    "        i += 1\n",
    "    ## A couple of log lines to get timing of runs\n",
    "    logger.info('END - getDirSize')\n",
    "    logger.info(dirstart)"
   ]
  },
  {
   "cell_type": "code",
   "execution_count": 5,
   "metadata": {
    "tags": []
   },
   "outputs": [
    {
     "output_type": "stream",
     "name": "stdout",
     "text": "mntcGitHubmortie23dirsize\n"
    }
   ],
   "source": [
    "## Unit test on small directory structure\n",
    "## Default is to start at this directory\n",
    "dirstart = os.getcwd()\n",
    "getDirSize(dirstart,1,0)"
   ]
  },
  {
   "cell_type": "code",
   "execution_count": 7,
   "metadata": {
    "tags": []
   },
   "outputs": [],
   "source": [
    "## Section Admin\n",
    "dirstart = \"/mnt/c/Users/chris/Documents\"\n",
    "#getDirSize(dirstart,1,0)"
   ]
  },
  {
   "cell_type": "markdown",
   "metadata": {},
   "source": [
    "# Loop Files\n",
    "A function to loop over all files in a directory and call the getDirSize function"
   ]
  },
  {
   "cell_type": "code",
   "execution_count": 8,
   "metadata": {},
   "outputs": [],
   "source": [
    "def loopFiles(dirname,debugFlag):\n",
    "    directory = os.fsencode(dirname)\n",
    "    for file in os.listdir(directory):\n",
    "        filename = os.fsdecode(file)\n",
    "        if debugFlag:\n",
    "            print(filename)\n",
    "            getDirSize(dirname+'/'+filename,1,1)\n",
    "        else:\n",
    "            getDirSize(dirname+'/'+filename,1,0)\n",
    "            pass"
   ]
  },
  {
   "cell_type": "code",
   "execution_count": 9,
   "metadata": {
    "tags": []
   },
   "outputs": [],
   "source": [
    "## Unit test for a directory\n",
    "dirname = \"/mnt/c/Users/chris/\"\n",
    "#loopFiles(dirname,0)"
   ]
  },
  {
   "cell_type": "code",
   "execution_count": null,
   "metadata": {},
   "outputs": [],
   "source": []
  }
 ],
 "metadata": {
  "kernelspec": {
   "display_name": "Python 3",
   "language": "python",
   "name": "python3"
  },
  "language_info": {
   "codemirror_mode": {
    "name": "ipython",
    "version": 3
   },
   "file_extension": ".py",
   "mimetype": "text/x-python",
   "name": "python",
   "nbconvert_exporter": "python",
   "pygments_lexer": "ipython3",
   "version": "3.8.1"
  }
 },
 "nbformat": 4,
 "nbformat_minor": 4
}